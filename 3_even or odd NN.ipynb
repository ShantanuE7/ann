{
 "cells": [
  {
   "cell_type": "code",
   "execution_count": 1,
   "metadata": {},
   "outputs": [
    {
     "name": "stdout",
     "output_type": "stream",
     "text": [
      "Predicted label for ASCII 55: Odd (0)\n",
      "Predicted label for ASCII 49: Odd (0)\n",
      "Predicted label for ASCII 52: Odd (1)\n",
      "Predicted label for ASCII 50: Even (1)\n",
      "Predicted label for ASCII 56: Even (1)\n",
      "Predicted label for ASCII 52: Even (1)\n"
     ]
    }
   ],
   "source": [
    "import numpy as np\n",
    "\n",
    "# Define the perceptron class\n",
    "class Perceptron:\n",
    "    def __init__(self, input_size):\n",
    "        self.weights = np.random.rand(input_size)\n",
    "        self.bias = np.random.rand()\n",
    "\n",
    "    def predict(self, inputs):\n",
    "        weighted_sum = np.dot(inputs, self.weights) + self.bias\n",
    "        return 1 if weighted_sum >= 0 else 0\n",
    "\n",
    "# Function to convert ASCII to binary representation\n",
    "def ascii_to_binary(ascii_value):\n",
    "    binary_rep = format(ascii_value, '08b')\n",
    "    return [int(bit) for bit in binary_rep]\n",
    "\n",
    "# Training data: ASCII values for digits 0 to 9\n",
    "training_data = {\n",
    "    '0': 48,\n",
    "    '1': 49,\n",
    "    '2': 50,\n",
    "    '3': 51,\n",
    "    '4': 52,\n",
    "    '5': 53,\n",
    "    '6': 54,\n",
    "    '7': 55,\n",
    "    '8': 56,\n",
    "    '9': 57\n",
    "}\n",
    "\n",
    "# Create a perceptron with input size of 8 (binary representation of ASCII values)\n",
    "perceptron = Perceptron(input_size=8)\n",
    "\n",
    "# Train the perceptron\n",
    "epochs = 1000\n",
    "learning_rate = 0.1\n",
    "\n",
    "for epoch in range(epochs):\n",
    "    for digit, ascii_value in training_data.items():\n",
    "        binary_input = np.array(ascii_to_binary(ascii_value))\n",
    "        target = 1 if int(digit) % 2 == 0 else 0  # 1 for even, 0 for odd\n",
    "        prediction = perceptron.predict(binary_input)\n",
    "\n",
    "        error = target - prediction\n",
    "        perceptron.weights += learning_rate * error * binary_input\n",
    "        perceptron.bias += learning_rate * error\n",
    "\n",
    "# Test the perceptron\n",
    "test_data = {\n",
    "    'Odd': [55, 49, 53],  # ASCII for '7', '1', '5' (odd numbers)\n",
    "    'Even': [50, 56, 52]  # ASCII for '2', '8', '4' (even numbers)\n",
    "}\n",
    "\n",
    "for label, ascii_values in test_data.items():\n",
    "    for ascii_value in ascii_values:\n",
    "        binary_input = np.array(ascii_to_binary(ascii_value))\n",
    "        prediction = perceptron.predict(binary_input)\n",
    "        print(f\"Predicted label for ASCII {ascii_value}: {label} ({prediction})\")\n"
   ]
  },
  {
   "cell_type": "code",
   "execution_count": null,
   "metadata": {},
   "outputs": [],
   "source": []
  }
 ],
 "metadata": {
  "kernelspec": {
   "display_name": "Python 3",
   "language": "python",
   "name": "python3"
  },
  "language_info": {
   "codemirror_mode": {
    "name": "ipython",
    "version": 3
   },
   "file_extension": ".py",
   "mimetype": "text/x-python",
   "name": "python",
   "nbconvert_exporter": "python",
   "pygments_lexer": "ipython3",
   "version": "3.11.4"
  }
 },
 "nbformat": 4,
 "nbformat_minor": 2
}
